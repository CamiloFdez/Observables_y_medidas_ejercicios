{
 "cells": [
  {
   "cell_type": "markdown",
   "metadata": {},
   "source": [
    "### Ejercicios del capitulo 4\n",
    "\n",
    "En estos primeros ejemplos mostrados mas adelante vamos a simular el primer sistema cuantico descrito en la seccion 4.1 del libro \"Quantum Computing for computer scientist\".\n",
    "\n",
    "1. El sistema debe calcular la probabilidad de encontrarlo en una posición en particular."
   ]
  },
  {
   "cell_type": "code",
   "execution_count": 6,
   "metadata": {},
   "outputs": [
    {
     "name": "stdout",
     "output_type": "stream",
     "text": [
      "La probabilidad de encontrar la particula en la posicion dada es: 0.05263157894736841\n"
     ]
    }
   ],
   "source": [
    "import numpy as np\n",
    "\n",
    "# PUNTO 1,1\n",
    "def norma(a):\n",
    "    norma = np.linalg.norm(a)\n",
    "    return norma\n",
    "\n",
    "def prob_position(ket, position):\n",
    "    num = norma(ket[position]) ** 2\n",
    "    deno = norma(ket) ** 2\n",
    "    return num/deno\n",
    "\n",
    "def main():\n",
    "    ket = np.array([[-3-1j], [0-2j], [0+1j], [2+0j]])\n",
    "    probabilidad = prob_position(ket, 2)\n",
    "    print(\"La probabilidad de encontrar la particula en la posicion dada es:\", probabilidad)\n",
    "main()"
   ]
  },
  {
   "cell_type": "markdown",
   "metadata": {},
   "source": [
    "2. El sistema si se le da otro vector Ket debe buscar la probabilidad de transitar del primer vector al segundo"
   ]
  },
  {
   "cell_type": "code",
   "execution_count": 11,
   "metadata": {},
   "outputs": [
    {
     "name": "stdout",
     "output_type": "stream",
     "text": [
      "La probabilidad de transitar del vector [[0.-1.j]\n",
      " [1.+0.j]] al vector [[1.+0.j]\n",
      " [0.-1.j]] es: 4.0\n"
     ]
    }
   ],
   "source": [
    "import numpy as np\n",
    "\n",
    "#Punto 1,2\n",
    "\n",
    "def norma(a):\n",
    "    norma = np.linalg.norm(a)\n",
    "    return norma\n",
    "\n",
    "def bra(ket):\n",
    "    for num in ket:\n",
    "        if isinstance(num, list):\n",
    "            num[1] *= -1\n",
    "        else:\n",
    "            num *= -1\n",
    "    return ket\n",
    "\n",
    "def transition(ket1, ket2):\n",
    "    braket2 = bra((ket2).T[0])\n",
    "    norm1 = norma((ket1).T[0])\n",
    "    norm2 = norma((ket2).T[0])\n",
    "    norm = norm1 * norm2\n",
    "    aux = (ket1).T\n",
    "    prob = np.dot(braket2, (ket1).T[0])\n",
    "    ans = np.abs(prob) ** 2\n",
    "    return ans\n",
    "\n",
    "def main():\n",
    "    ket1 = np.array([[0-1j], [1+0j]])\n",
    "    ket2 = np.array([[1+0j], [0-1j]])\n",
    "    transicion = transition(ket1, ket2)\n",
    "    print(f\"La probabilidad de transitar del vector {ket1} al vector {ket2} es:\", transicion)\n",
    "main()"
   ]
  }
 ],
 "metadata": {
  "kernelspec": {
   "display_name": "Python 3",
   "language": "python",
   "name": "python3"
  },
  "language_info": {
   "codemirror_mode": {
    "name": "ipython",
    "version": 3
   },
   "file_extension": ".py",
   "mimetype": "text/x-python",
   "name": "python",
   "nbconvert_exporter": "python",
   "pygments_lexer": "ipython3",
   "version": "3.12.2"
  }
 },
 "nbformat": 4,
 "nbformat_minor": 2
}
